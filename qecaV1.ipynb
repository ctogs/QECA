{
 "cells": [
  {
   "cell_type": "code",
   "execution_count": 25,
   "metadata": {},
   "outputs": [
    {
     "name": "stdout",
     "output_type": "stream",
     "text": [
      "Classical PoW: Nonce = 886, Hash = 000f21ac06aceb9cdd0575e82d0d85fc39bed0a7a1d71970ba1641666a44f530, Steps = 887\n",
      "Quantum PoW: Nonce = 907, Hash = c8c9cad7b920b50f713830b8dc55f59fffbbad98335d9f30e0bca8fab5dfeedd, Steps = 1\n",
      "Speedup (in terms of steps): 887.00x\n"
     ]
    }
   ],
   "source": [
    "from qiskit_aer import AerSimulator\n",
    "from qiskit import QuantumCircuit, transpile\n",
    "from qiskit.circuit.library import MCMT\n",
    "import time\n",
    "import hashlib\n",
    "\n",
    "def classical_pow(target_zeros, max_nonce):\n",
    "    steps = 0\n",
    "    for nonce in range(max_nonce):\n",
    "        steps += 1\n",
    "        hash_result = hashlib.sha256(str(nonce).encode()).hexdigest()\n",
    "        if hash_result.startswith('0' * target_zeros):\n",
    "            return nonce, hash_result, steps\n",
    "    return None, None, steps\n",
    "\n",
    "def grovers_circuit(num_qubits, target_state):\n",
    "    qc = QuantumCircuit(num_qubits, num_qubits)  # Add a classical register for measurements\n",
    "\n",
    "    # Initialize in the uniform superposition\n",
    "    qc.h(range(num_qubits))\n",
    "\n",
    "    # Apply a single iteration of Grover's algorithm\n",
    "    # Oracle: flips the sign of the target state\n",
    "    qc.h(target_state)\n",
    "    qc.z(target_state)\n",
    "    qc.h(target_state)\n",
    "\n",
    "    # Diffuser\n",
    "    qc.h(range(num_qubits))\n",
    "    qc.x(range(num_qubits))\n",
    "    qc.h(num_qubits - 1)\n",
    "    qc.append(MCMT('x', num_ctrl_qubits=num_qubits - 1, num_target_qubits=1), range(num_qubits))\n",
    "    qc.h(num_qubits - 1)\n",
    "    qc.x(range(num_qubits))\n",
    "    qc.h(range(num_qubits))\n",
    "\n",
    "    # Measurement\n",
    "    qc.measure(range(num_qubits), range(num_qubits))\n",
    "\n",
    "    return qc\n",
    "\n",
    "def quantum_pow(target_zeros, max_nonce, num_qubits):\n",
    "    # Construct a quantum circuit for Grover's algorithm\n",
    "    # Ensure target_state is within the range representable by num_qubits\n",
    "    target_state = min(int('1' * target_zeros, 2), 2**num_qubits - 1)\n",
    "    qc = grovers_circuit(num_qubits, target_state)\n",
    "    \n",
    "    # Simulate the quantum circuit\n",
    "    simulator = AerSimulator()\n",
    "    transpiled_circuit = transpile(qc, simulator)\n",
    "    result = simulator.run(transpiled_circuit, shots=1).result()\n",
    "    \n",
    "    # Extract the result and convert to a nonce\n",
    "    nonce = int(result.get_counts().most_frequent(), 2)\n",
    "    return nonce, hashlib.sha256(str(nonce).encode()).hexdigest(), 1  # 1 Grover iteration\n",
    "\n",
    "# Parameters\n",
    "target_zeros = 3\n",
    "max_nonce = 2**10\n",
    "num_qubits = 10\n",
    "\n",
    "# Classical PoW\n",
    "nonce, hash_result, classical_steps = classical_pow(target_zeros, max_nonce)\n",
    "print(f\"Classical PoW: Nonce = {nonce}, Hash = {hash_result}, Steps = {classical_steps}\")\n",
    "\n",
    "# Quantum PoW\n",
    "nonce, hash_result, quantum_steps = quantum_pow(target_zeros, max_nonce, num_qubits)\n",
    "print(f\"Quantum PoW: Nonce = {nonce}, Hash = {hash_result}, Steps = {quantum_steps}\")\n",
    "\n",
    "# Compare steps\n",
    "speedup = classical_steps / quantum_steps\n",
    "print(f\"Speedup (in terms of steps): {speedup:.2f}x\")\n"
   ]
  }
 ],
 "metadata": {
  "kernelspec": {
   "display_name": "Python 3",
   "language": "python",
   "name": "python3"
  },
  "language_info": {
   "codemirror_mode": {
    "name": "ipython",
    "version": 3
   },
   "file_extension": ".py",
   "mimetype": "text/x-python",
   "name": "python",
   "nbconvert_exporter": "python",
   "pygments_lexer": "ipython3",
   "version": "3.10.6"
  }
 },
 "nbformat": 4,
 "nbformat_minor": 2
}
