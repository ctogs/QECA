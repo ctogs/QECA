{
 "cells": [
  {
   "cell_type": "code",
   "execution_count": 37,
   "metadata": {},
   "outputs": [],
   "source": [
    "from qiskit_aer import AerSimulator\n",
    "from qiskit import QuantumCircuit, transpile\n",
    "from qiskit.circuit.library import MCMT, GroverOperator\n",
    "import time\n",
    "import hashlib\n",
    "from math import sqrt, pi\n",
    "\n",
    "def classical_pow(target_zeros, max_nonce):\n",
    "    steps = 0\n",
    "    for nonce in range(max_nonce):\n",
    "        steps += 1\n",
    "        hash_result = hashlib.sha256(str(nonce).encode()).hexdigest()\n",
    "        if hash_result.startswith('0' * target_zeros):\n",
    "            return nonce, hash_result, steps\n",
    "    return None, None, steps\n",
    "\n",
    "def grovers_circuit(num_qubits, target_state, num_iterations):\n",
    "    qc = QuantumCircuit(num_qubits, num_qubits)  # Add a classical register for measurements\n",
    "\n",
    "    # Initialize in the uniform superposition\n",
    "    qc.h(range(num_qubits))\n",
    "\n",
    "    # Apply Grover's algorithm iterations\n",
    "    for _ in range(num_iterations):\n",
    "        # Oracle: flips the sign of the target state\n",
    "        qc.h(target_state)\n",
    "        qc.z(target_state)\n",
    "        qc.h(target_state)\n",
    "\n",
    "        # Diffuser\n",
    "        qc.h(range(num_qubits))\n",
    "        qc.x(range(num_qubits))\n",
    "        qc.h(num_qubits - 1)\n",
    "        qc.append(MCMT('x', num_ctrl_qubits=num_qubits - 1, num_target_qubits=1), range(num_qubits))\n",
    "        qc.h(num_qubits - 1)\n",
    "        qc.x(range(num_qubits))\n",
    "        qc.h(range(num_qubits))\n",
    "\n",
    "    # Measurement\n",
    "    qc.measure(range(num_qubits), range(num_qubits))\n",
    "\n",
    "    return qc\n",
    "\n",
    "from qiskit.circuit.library import GroverOperator\n",
    "\n",
    "def quantum_pow(target_zeros, max_nonce, num_qubits, min_iterations, max_iterations):\n",
    "    # Find a target state that has the specified number of leading zeros\n",
    "    target_state = 0\n",
    "    for i in range(2**num_qubits):\n",
    "        binary_rep = format(i, f'0{num_qubits}b')\n",
    "        if binary_rep.startswith('0' * target_zeros):\n",
    "            target_state = i\n",
    "            break\n",
    "\n",
    "    # Initialize the simulator\n",
    "    simulator = AerSimulator()\n",
    "\n",
    "    # Try different numbers of Grover iterations until a solution is found or the max_iterations is reached\n",
    "    for num_iterations in range(min_iterations, max_iterations + 1):\n",
    "        # Construct a quantum circuit for Grover's algorithm\n",
    "        qc = grovers_circuit(num_qubits, target_state, num_iterations)\n",
    "        \n",
    "        # Simulate the quantum circuit\n",
    "        transpiled_circuit = transpile(qc, simulator)\n",
    "        result = simulator.run(transpiled_circuit, shots=1).result()\n",
    "        \n",
    "        # Extract the result and convert to a nonce\n",
    "        nonce = int(result.get_counts().most_frequent(), 2)\n",
    "        hash_result = hashlib.sha256(str(nonce).encode()).hexdigest()\n",
    "\n",
    "        # Check if the solution is valid\n",
    "        if hash_result.startswith('0' * target_zeros):\n",
    "            return nonce, hash_result, num_iterations\n",
    "\n",
    "    # If no solution is found within the maximum number of iterations\n",
    "    return None, None, max_iterations\n",
    "\n",
    "# Example usage\n",
    "target_zeros = 7\n",
    "max_nonce = 2**22\n",
    "num_qubits = 22\n",
    "\n",
    "# nonce, hash_result, quantum_steps = quantum_pow(target_zeros, max_nonce, num_qubits)\n",
    "# print(f\"Quantum PoW: Nonce = {nonce}, Hash = {hash_result}, Steps = {quantum_steps}\")\n",
    "\n",
    "# # Classical PoW\n",
    "# nonce, hash_result, classical_steps = classical_pow(target_zeros, max_nonce)\n",
    "# print(f\"Classical PoW: Nonce = {nonce}, Hash = {hash_result}, Steps = {classical_steps}\")\n",
    "\n",
    "# # Compare steps\n",
    "# speedup = classical_steps / quantum_steps\n",
    "# print(f\"Speedup (in terms of steps): {speedup:.2f}x\")\n"
   ]
  },
  {
   "cell_type": "code",
   "execution_count": 39,
   "metadata": {},
   "outputs": [
    {
     "name": "stdout",
     "output_type": "stream",
     "text": [
      "Classical PoW: Nonce = 665782, Hash = 0000000399c6aea5ad0c709a9bc331a3ed6494702bd1d129d8c817a0257a1462, Steps = 665783, Time = 0.9004 seconds\n"
     ]
    }
   ],
   "source": [
    "start_time_classical = time.time()\n",
    "nonce, hash_result, classical_steps = classical_pow(target_zeros, max_nonce)\n",
    "end_time_classical = time.time()\n",
    "classical_time = end_time_classical - start_time_classical\n",
    "print(f\"Classical PoW: Nonce = {nonce}, Hash = {hash_result}, Steps = {classical_steps}, Time = {classical_time:.4f} seconds\")"
   ]
  },
  {
   "cell_type": "code",
   "execution_count": 38,
   "metadata": {},
   "outputs": [
    {
     "name": "stdout",
     "output_type": "stream",
     "text": [
      "Quantum PoW: Nonce = 3126646, Hash = 45ea4a84c6cd314b1f7f292419766aa91405cef08e707a477285a034418c7fca, Steps = 8, Time = 0.3369 seconds\n"
     ]
    }
   ],
   "source": [
    "start_time_quantum = time.time()\n",
    "nonce, hash_result, quantum_steps = quantum_pow(target_zeros, max_nonce, num_qubits, min_iterations, max_iterations)\n",
    "end_time_quantum = time.time()\n",
    "quantum_time = end_time_quantum - start_time_quantum\n",
    "print(f\"Quantum PoW: Nonce = {nonce}, Hash = {hash_result}, Steps = {quantum_steps}, Time = {quantum_time:.4f} seconds\")"
   ]
  }
 ],
 "metadata": {
  "kernelspec": {
   "display_name": "Python 3",
   "language": "python",
   "name": "python3"
  },
  "language_info": {
   "codemirror_mode": {
    "name": "ipython",
    "version": 3
   },
   "file_extension": ".py",
   "mimetype": "text/x-python",
   "name": "python",
   "nbconvert_exporter": "python",
   "pygments_lexer": "ipython3",
   "version": "3.10.6"
  }
 },
 "nbformat": 4,
 "nbformat_minor": 2
}
