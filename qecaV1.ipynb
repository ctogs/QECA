{
 "cells": [
  {
   "cell_type": "code",
   "execution_count": 1,
   "metadata": {},
   "outputs": [
    {
     "name": "stdout",
     "output_type": "stream",
     "text": [
      "Quantum PoW: Nonce = 703638, Hash = 3ca75aa018cee65d4adfddaab6490d7f13d06fd242ed034c424c3cdbd39e82f9, Steps = 8\n",
      "Classical PoW: Nonce = 665782, Hash = 0000000399c6aea5ad0c709a9bc331a3ed6494702bd1d129d8c817a0257a1462, Steps = 665783\n",
      "Speedup (in terms of steps): 83222.88x\n"
     ]
    }
   ],
   "source": [
    "from qiskit_aer import AerSimulator\n",
    "from qiskit import QuantumCircuit, transpile\n",
    "from qiskit.circuit.library import MCMT\n",
    "import time\n",
    "import hashlib\n",
    "from math import sqrt, pi\n",
    "\n",
    "def classical_pow(target_zeros, max_nonce):\n",
    "    steps = 0\n",
    "    for nonce in range(max_nonce):\n",
    "        steps += 1\n",
    "        hash_result = hashlib.sha256(str(nonce).encode()).hexdigest()\n",
    "        if hash_result.startswith('0' * target_zeros):\n",
    "            return nonce, hash_result, steps\n",
    "    return None, None, steps\n",
    "\n",
    "def grovers_circuit(num_qubits, target_state, num_iterations):\n",
    "    qc = QuantumCircuit(num_qubits, num_qubits)  # Add a classical register for measurements\n",
    "\n",
    "    # Initialize in the uniform superposition\n",
    "    qc.h(range(num_qubits))\n",
    "\n",
    "    # Apply Grover's algorithm iterations\n",
    "    for _ in range(num_iterations):\n",
    "        # Oracle: flips the sign of the target state\n",
    "        qc.h(target_state)\n",
    "        qc.z(target_state)\n",
    "        qc.h(target_state)\n",
    "\n",
    "        # Diffuser\n",
    "        qc.h(range(num_qubits))\n",
    "        qc.x(range(num_qubits))\n",
    "        qc.h(num_qubits - 1)\n",
    "        qc.append(MCMT('x', num_ctrl_qubits=num_qubits - 1, num_target_qubits=1), range(num_qubits))\n",
    "        qc.h(num_qubits - 1)\n",
    "        qc.x(range(num_qubits))\n",
    "        qc.h(range(num_qubits))\n",
    "\n",
    "    # Measurement\n",
    "    qc.measure(range(num_qubits), range(num_qubits))\n",
    "\n",
    "    return qc\n",
    "\n",
    "def quantum_pow(target_zeros, max_nonce, num_qubits):\n",
    "    # Find a target state that has the specified number of leading zeros\n",
    "    target_state = 0\n",
    "    for i in range(2**num_qubits):\n",
    "        binary_rep = format(i, f'0{num_qubits}b')\n",
    "        if binary_rep.startswith('0' * target_zeros):\n",
    "            target_state = i\n",
    "            break\n",
    "\n",
    "    # Estimate the number of solutions and the number of Grover iterations\n",
    "    num_solutions = 2**(num_qubits - target_zeros)\n",
    "    num_iterations = int((pi / 4) * sqrt(2**num_qubits / num_solutions))\n",
    "\n",
    "    # Construct a quantum circuit for Grover's algorithm\n",
    "    qc = grovers_circuit(num_qubits, target_state, num_iterations)\n",
    "    \n",
    "    # Simulate the quantum circuit\n",
    "    simulator = AerSimulator()\n",
    "    transpiled_circuit = transpile(qc, simulator)\n",
    "    result = simulator.run(transpiled_circuit, shots=1).result()\n",
    "    \n",
    "    # Extract the result and convert to a nonce\n",
    "    nonce = int(result.get_counts().most_frequent(), 2)\n",
    "    return nonce, hashlib.sha256(str(nonce).encode()).hexdigest(), num_iterations\n",
    "\n",
    "# Example usage\n",
    "target_zeros = 7\n",
    "max_nonce = 2**20\n",
    "num_qubits = 20\n",
    "\n",
    "nonce, hash_result, quantum_steps = quantum_pow(target_zeros, max_nonce, num_qubits)\n",
    "print(f\"Quantum PoW: Nonce = {nonce}, Hash = {hash_result}, Steps = {quantum_steps}\")\n",
    "\n",
    "# Classical PoW\n",
    "nonce, hash_result, classical_steps = classical_pow(target_zeros, max_nonce)\n",
    "print(f\"Classical PoW: Nonce = {nonce}, Hash = {hash_result}, Steps = {classical_steps}\")\n",
    "\n",
    "# Compare steps\n",
    "speedup = classical_steps / quantum_steps\n",
    "print(f\"Speedup (in terms of steps): {speedup:.2f}x\")\n"
   ]
  },
  {
   "cell_type": "code",
   "execution_count": 2,
   "metadata": {},
   "outputs": [
    {
     "name": "stdout",
     "output_type": "stream",
     "text": [
      "Classical PoW: Nonce = 665782, Hash = 0000000399c6aea5ad0c709a9bc331a3ed6494702bd1d129d8c817a0257a1462, Steps = 665783, Time = 0.8966 seconds\n"
     ]
    }
   ],
   "source": [
    "start_time_classical = time.time()\n",
    "nonce, hash_result, classical_steps = classical_pow(target_zeros, max_nonce)\n",
    "end_time_classical = time.time()\n",
    "classical_time = end_time_classical - start_time_classical\n",
    "print(f\"Classical PoW: Nonce = {nonce}, Hash = {hash_result}, Steps = {classical_steps}, Time = {classical_time:.4f} seconds\")"
   ]
  },
  {
   "cell_type": "code",
   "execution_count": 3,
   "metadata": {},
   "outputs": [
    {
     "name": "stdout",
     "output_type": "stream",
     "text": [
      "Quantum PoW: Nonce = 150448, Hash = 1f49270a7ec688c45cc5bfbad0bdcef52e0e8d98610ab3ccc86610ec4936ecaa, Steps = 8, Time = 0.1254 seconds\n"
     ]
    }
   ],
   "source": [
    "start_time_quantum = time.time()\n",
    "nonce, hash_result, quantum_steps = quantum_pow(target_zeros, max_nonce, num_qubits)\n",
    "end_time_quantum = time.time()\n",
    "quantum_time = end_time_quantum - start_time_quantum\n",
    "print(f\"Quantum PoW: Nonce = {nonce}, Hash = {hash_result}, Steps = {quantum_steps}, Time = {quantum_time:.4f} seconds\")"
   ]
  }
 ],
 "metadata": {
  "kernelspec": {
   "display_name": "Python 3",
   "language": "python",
   "name": "python3"
  },
  "language_info": {
   "codemirror_mode": {
    "name": "ipython",
    "version": 3
   },
   "file_extension": ".py",
   "mimetype": "text/x-python",
   "name": "python",
   "nbconvert_exporter": "python",
   "pygments_lexer": "ipython3",
   "version": "3.9.18"
  }
 },
 "nbformat": 4,
 "nbformat_minor": 2
}
