{
 "cells": [
  {
   "cell_type": "code",
   "execution_count": 5,
   "metadata": {},
   "outputs": [],
   "source": [
    "from qiskit_aer import AerSimulator\n",
    "from qiskit import QuantumCircuit, transpile\n",
    "from qiskit.circuit.library import MCMT\n",
    "import time\n",
    "import hashlib\n",
    "from math import sqrt, pi\n",
    "from qiskit.quantum_info import Statevector, Operator, DensityMatrix"
   ]
  },
  {
   "cell_type": "code",
   "execution_count": 3,
   "metadata": {},
   "outputs": [],
   "source": [
    "def f(nonce, target_zeros):\n",
    "  hash = hashlib.sha256(str(nonce).encode()).hexdigest()\n",
    "  return hash.startswith('0' * target_zeros)"
   ]
  },
  {
   "cell_type": "code",
   "execution_count": 6,
   "metadata": {},
   "outputs": [],
   "source": [
    "def diffusion_operator(n):\n",
    "  # for n qubits, create the diffusion operator (reflect across h)\n",
    "  diffusion_gate = QuantumCircuit(n, name=\"DiffusionOperator ($Z_h$)\")\n",
    "\n",
    "  # TODO: add gate(s) here\n",
    "  diffusion_gate.h(range(n))\n",
    "\n",
    "  Z_0 = 2 * DensityMatrix.from_label('0'*n) - Operator.from_label('I'*n) # TODO: create a matrix for Z_0 using the hint\n",
    "  diffusion_gate.append(Z_0.to_operator(), range(n))\n",
    "  # TODO: add gate(s) here\n",
    "  diffusion_gate.h(range(n))\n",
    "  return diffusion_gate"
   ]
  },
  {
   "cell_type": "code",
   "execution_count": 7,
   "metadata": {},
   "outputs": [
    {
     "name": "stdout",
     "output_type": "stream",
     "text": [
      "     ┌───┐┌──────────┐┌───┐\n",
      "q_0: ┤ H ├┤0         ├┤ H ├\n",
      "     ├───┤│          │├───┤\n",
      "q_1: ┤ H ├┤1         ├┤ H ├\n",
      "     ├───┤│          │├───┤\n",
      "q_2: ┤ H ├┤2 Unitary ├┤ H ├\n",
      "     ├───┤│          │├───┤\n",
      "q_3: ┤ H ├┤3         ├┤ H ├\n",
      "     ├───┤│          │├───┤\n",
      "q_4: ┤ H ├┤4         ├┤ H ├\n",
      "     └───┘└──────────┘└───┘\n"
     ]
    }
   ],
   "source": [
    "print(diffusion_operator(5))"
   ]
  }
 ],
 "metadata": {
  "kernelspec": {
   "display_name": "base",
   "language": "python",
   "name": "python3"
  },
  "language_info": {
   "codemirror_mode": {
    "name": "ipython",
    "version": 3
   },
   "file_extension": ".py",
   "mimetype": "text/x-python",
   "name": "python",
   "nbconvert_exporter": "python",
   "pygments_lexer": "ipython3",
   "version": "3.9.18"
  }
 },
 "nbformat": 4,
 "nbformat_minor": 2
}
