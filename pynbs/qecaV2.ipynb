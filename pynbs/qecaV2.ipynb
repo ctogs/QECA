{
 "cells": [
  {
   "cell_type": "code",
   "execution_count": 34,
   "metadata": {},
   "outputs": [],
   "source": [
    "import hashlib\n",
    "\n",
    "def sha256_hash(data, nonce):\n",
    "    # Concatenate the data and nonce and encode as bytes\n",
    "    input_str = f\"{data}{nonce}\".encode()\n",
    "    # Compute the SHA-256 hash\n",
    "    hash_hex = hashlib.sha256(input_str).hexdigest()\n",
    "    # Convert the hash to an integer for comparison\n",
    "    return int(hash_hex, 16)\n"
   ]
  },
  {
   "cell_type": "code",
   "execution_count": 35,
   "metadata": {},
   "outputs": [
    {
     "name": "stdout",
     "output_type": "stream",
     "text": [
      "Classical mining found nonce: (2859, 2860)\n"
     ]
    }
   ],
   "source": [
    "import hashlib\n",
    "def simple_hash(data, nonce):\n",
    "    return (data + nonce) % 10  # Simplified hash function\n",
    "def classical_mining(data, target_zeros):\n",
    "    nonce = 0\n",
    "    steps = 0\n",
    "    target_prefix = '0' * target_zeros\n",
    "    while True:\n",
    "        steps += 1\n",
    "        hash_value = sha256_hash(data, nonce)\n",
    "        if str(format(hash_value, '0256b'))[:target_zeros] == target_prefix:\n",
    "            return nonce, steps\n",
    "        nonce += 1\n",
    "\n",
    "# Example usage\n",
    "data = 123790790  # Some arbitrary data\n",
    "target = 10  # We want the hash to be 0\n",
    "nonce = classical_mining(data, target)\n",
    "print(f\"Classical mining found nonce: {nonce}\")\n"
   ]
  },
  {
   "cell_type": "code",
   "execution_count": null,
   "metadata": {},
   "outputs": [
    {
     "name": "stdout",
     "output_type": "stream",
     "text": [
      "Classical mining found nonce: 7 in 7 steps\n",
      "Quantum mining results: {'101': 6, '110': 9, '001': 9, '100': 8, '011': 9, '111': 10, '010': 9, '000': 964}\n",
      "Quantum mining took 2 steps\n"
     ]
    }
   ],
   "source": [
    "from qiskit_aer import AerSimulator\n",
    "from qiskit import QuantumCircuit, transpile\n",
    "from qiskit.circuit.library import MCMT, GroverOperator\n",
    "import time\n",
    "import hashlib\n",
    "from math import sqrt, pi\n",
    "from qiskit.quantum_info import Operator\n",
    "import numpy as np\n",
    "import matplotlib.pyplot as plt\n",
    "from qiskit.visualization import plot_histogram\n",
    "from qiskit.quantum_info import Statevector\n",
    "from qiskit.tools.monitor import job_monitor\n",
    "\n",
    "def grovers_oracle(target_nonce, num_qubits):\n",
    "    oracle = QuantumCircuit(num_qubits)\n",
    "    # Apply X gates to flip the qubits corresponding to the target nonce\n",
    "    for i in range(num_qubits):\n",
    "        if (target_nonce >> i) & 1:\n",
    "            oracle.x(i)\n",
    "    # Apply a multi-controlled X gate to flip the sign of the target state\n",
    "    oracle.h(num_qubits - 1)\n",
    "    oracle.append(MCMT('x', num_ctrl_qubits=num_qubits - 1, num_target_qubits=1), list(range(num_qubits)))\n",
    "    oracle.h(num_qubits - 1)\n",
    "    # Flip the qubits back\n",
    "    for i in range(num_qubits):\n",
    "        if (target_nonce >> i) & 1:\n",
    "            oracle.x(i)\n",
    "    return oracle\n",
    "\n",
    "def grovers_diffuser(num_qubits):\n",
    "    diffuser = QuantumCircuit(num_qubits)\n",
    "    diffuser.h(range(num_qubits))\n",
    "    diffuser.x(range(num_qubits))\n",
    "    diffuser.h(num_qubits - 1)\n",
    "    diffuser.append(MCMT('x', num_ctrl_qubits=num_qubits - 1, num_target_qubits=1), list(range(num_qubits)))\n",
    "    diffuser.h(num_qubits - 1)\n",
    "    diffuser.x(range(num_qubits))\n",
    "    diffuser.h(range(num_qubits))\n",
    "    return diffuser\n",
    "\n",
    "def quantum_mining(data, target, num_qubits=3):\n",
    "    target_nonce = classical_mining(data, target)[0]  # Get target nonce from classical mining\n",
    "    oracle = grovers_oracle(target_nonce, num_qubits)\n",
    "    diffuser = grovers_diffuser(num_qubits)\n",
    "\n",
    "    qc = QuantumCircuit(num_qubits, num_qubits)\n",
    "    qc.h(range(num_qubits))  # Initialize in superposition\n",
    "\n",
    "    num_steps = int(np.pi / 4 * np.sqrt(2 ** num_qubits))\n",
    "\n",
    "    for _ in range(num_steps):\n",
    "        qc.append(oracle, range(num_qubits))\n",
    "        qc.append(diffuser, range(num_qubits))\n",
    "\n",
    "    qc.measure(range(num_qubits), range(num_qubits))\n",
    "\n",
    "    backend = AerSimulator()\n",
    "    transpiled_circuit = transpile(qc, backend)\n",
    "    job = backend.run(transpiled_circuit, shots=1)  # Only need one shot for verification\n",
    "    result = job.result()\n",
    "    counts = result.get_counts(qc)\n",
    "    measured_nonce = int(max(counts, key=counts.get), 2)  # Convert binary string to integer\n",
    "\n",
    "    # Verify that the measured nonce is correct\n",
    "    if simple_hash(data, measured_nonce) == target:\n",
    "        print(f\"Quantum mining found the correct nonce: {measured_nonce}\")\n",
    "    else:\n",
    "        print(f\"Quantum mining did not find the correct nonce. Measured nonce: {measured_nonce}\")\n",
    "\n",
    "    return counts, num_steps\n",
    "\n",
    "\n",
    "\n",
    "\n",
    "# Classical mining\n",
    "nonce, classical_steps = classical_mining(data, target)\n",
    "print(f\"Classical mining found nonce: {nonce} in {classical_steps} steps\")\n",
    "\n",
    "# Quantum mining\n",
    "counts, quantum_steps = quantum_mining(data, target, num_qubits)\n",
    "print(f\"Quantum mining results: {counts}\")\n",
    "print(f\"Quantum mining took {quantum_steps} steps\")\n",
    "\n",
    "#"
   ]
  }
 ],
 "metadata": {
  "kernelspec": {
   "display_name": "Python 3",
   "language": "python",
   "name": "python3"
  },
  "language_info": {
   "codemirror_mode": {
    "name": "ipython",
    "version": 3
   },
   "file_extension": ".py",
   "mimetype": "text/x-python",
   "name": "python",
   "nbconvert_exporter": "python",
   "pygments_lexer": "ipython3",
   "version": "3.10.6"
  }
 },
 "nbformat": 4,
 "nbformat_minor": 2
}
