{
 "cells": [
  {
   "cell_type": "code",
   "execution_count": 5,
   "metadata": {},
   "outputs": [
    {
     "name": "stdout",
     "output_type": "stream",
     "text": [
      "[{'index': 1, 'transactions': [], 'numbers': [48, 5, 70, 94, 38, 100, 100, 40, 70, 39, 80, 85, 35, 90, 93, 69, 51, 89, 85, 89], 'prime_count': 0, 'previous_hash': '0'}]\n",
      "[{'index': 1, 'transactions': [], 'numbers': [48, 5, 70, 94, 38, 100, 100, 40, 70, 39, 80, 85, 35, 90, 93, 69, 51, 89, 85, 89], 'prime_count': 0, 'previous_hash': '0'}]\n"
     ]
    }
   ],
   "source": [
    "from qiskit_aer import Aer\n",
    "from qiskit import QuantumCircuit, transpile, assemble\n",
    "import hashlib\n",
    "import random\n",
    "\n",
    "class QuantumBlockchain:\n",
    "    def __init__(self):\n",
    "        self.chain = []\n",
    "        self.current_transactions = []\n",
    "        self.create_block(numbers=self.generate_random_numbers(), prime_count=0, previous_hash='0')  # Genesis block\n",
    "\n",
    "    def create_block(self, numbers, prime_count, previous_hash):\n",
    "        block = {\n",
    "            'index': len(self.chain) + 1,\n",
    "            'transactions': self.current_transactions,\n",
    "            'numbers': numbers,\n",
    "            'prime_count': prime_count,\n",
    "            'previous_hash': previous_hash\n",
    "        }\n",
    "        self.current_transactions = []\n",
    "        self.chain.append(block)\n",
    "        return block\n",
    "\n",
    "    def add_transaction(self, sender, recipient, amount):\n",
    "        self.current_transactions.append({\n",
    "            'sender': sender,\n",
    "            'recipient': recipient,\n",
    "            'amount': amount\n",
    "        })\n",
    "        return self.last_block['index'] + 1\n",
    "\n",
    "    @property\n",
    "    def last_block(self):\n",
    "        return self.chain[-1]\n",
    "\n",
    "    def hash(self, block):\n",
    "        block_string = str(block).encode()\n",
    "        return hashlib.sha256(block_string).hexdigest()\n",
    "\n",
    "    def generate_random_numbers(self):\n",
    "        return [random.randint(1, 100) for _ in range(20)]\n",
    "\n",
    "    def valid_proof(self, transactions, last_prime_count, prime_count):\n",
    "        guess = f'{transactions}{last_prime_count}{prime_count}'.encode()\n",
    "        guess_hash = hashlib.sha256(guess).hexdigest()\n",
    "        return guess_hash[:4] == \"0000\"\n",
    "\n",
    "# Example usage\n",
    "blockchain = QuantumBlockchain()\n",
    "print(blockchain.chain)\n",
    "\n",
    "# Add a new transaction\n",
    "blockchain.add_transaction(sender=\"Alice\", recipient=\"Bob\", amount=100)\n",
    "\n",
    "# Suppose a miner has found the prime count for the last block's numbers\n",
    "last_block = blockchain.last_block\n",
    "last_prime_count = last_block['prime_count']\n",
    "prime_count = 5  # Placeholder for the actual prime count found by the miner\n",
    "\n",
    "# If the proof is valid, create a new block\n",
    "if blockchain.valid_proof(blockchain.current_transactions, last_prime_count, prime_count):\n",
    "    previous_hash = blockchain.hash(last_block)\n",
    "    new_numbers = blockchain.generate_random_numbers()\n",
    "    block = blockchain.create_block(new_numbers, prime_count, previous_hash)\n",
    "\n",
    "print(blockchain.chain)\n"
   ]
  }
 ],
 "metadata": {
  "kernelspec": {
   "display_name": "Python 3",
   "language": "python",
   "name": "python3"
  },
  "language_info": {
   "codemirror_mode": {
    "name": "ipython",
    "version": 3
   },
   "file_extension": ".py",
   "mimetype": "text/x-python",
   "name": "python",
   "nbconvert_exporter": "python",
   "pygments_lexer": "ipython3",
   "version": "3.10.6"
  }
 },
 "nbformat": 4,
 "nbformat_minor": 2
}
